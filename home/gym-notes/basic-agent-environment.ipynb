{
 "cells": [
  {
   "cell_type": "markdown",
   "metadata": {},
   "source": [
    "# Basic RL Setup\n",
    "\n",
    "You create an environment and an agent\n",
    "\n",
    "## Environment\n",
    "\n",
    "The environment dictates:\n",
    "\n",
    "1. what types of actions you can perform\n",
    "2. What's the state of the system\n",
    "3. Whether the game or episode is done\n",
    "\n",
    "## Agent\n",
    "\n",
    "The agent takes in an environment and decides to perform an action within it based off it's state"
   ]
  },
  {
   "cell_type": "code",
   "execution_count": null,
   "metadata": {},
   "outputs": [],
   "source": [
    "import random\n",
    "from typing import List\n",
    "\n",
    "class Environment:\n",
    "    def __init__(self):\n",
    "        self.steps_left = 10\n",
    "        \n",
    "    def get_observation(self) -> List[float]:\n",
    "        \"\"\"return current environment state\"\"\"\n",
    "        return [0.0, 0.0, 0.0]\n",
    "\n",
    "    def get_actions(self) -> List[int]:\n",
    "        return [0, 1]\n",
    "    \n",
    "    def is_done(self) -> bool:\n",
    "        return self.steps_left == 0\n",
    "    \n",
    "    def action(self, action: int) -> float:\n",
    "        if self.is_done():\n",
    "            raise Exception(\"Game is over\")\n",
    "        \n",
    "        self.steps_left -= 1\n",
    "        return random.random()\n",
    "\n",
    "class Agent:\n",
    "    def __init__(self):\n",
    "        self.total_reward = 0.0\n",
    "    \n",
    "    def step(self, env: Environment):\n",
    "        \"\"\"\n",
    "        1. observe the environment\n",
    "        2. make a decision about the action to take based on the observations\n",
    "        3. submit the action to the environment\n",
    "        4. get the reward for the current step\n",
    "        \"\"\"\n",
    "        current_obs = env.get_observation()\n",
    "        actions = env.get_actions()\n",
    "        reward = env.action(random.choice(actions))\n",
    "        self.total_reward += reward\n",
    "        \n",
    "env = Environment()\n",
    "agent = Agent()\n",
    "\n",
    "while not env.is_done():\n",
    "    agent.step(env)\n",
    "    \n",
    "    print(f'total reward {agent.total_reward}')"
   ]
  },
  {
   "cell_type": "markdown",
   "metadata": {},
   "source": [
    "# CartPole\n",
    "\n",
    "## Observation\n",
    "\n",
    "4 floating point numbers containing information about:\n",
    "\n",
    "1. the x-coordinate of the stick's center of mass\n",
    "2. its speed\n",
    "3. angle to the platform\n",
    "4. angular speed\n"
   ]
  },
  {
   "cell_type": "code",
   "execution_count": 12,
   "metadata": {},
   "outputs": [
    {
     "data": {
      "text/plain": [
       "array([ 0.01975619, -0.02326367,  0.04264992,  0.01020286])"
      ]
     },
     "execution_count": 12,
     "metadata": {},
     "output_type": "execute_result"
    }
   ],
   "source": [
    "env = gym.make('CartPole-v0')\n",
    "total_reward = 0.0\n",
    "total_steps = 0\n",
    "obs = env.reset()\n",
    "\n",
    "obs"
   ]
  },
  {
   "cell_type": "markdown",
   "metadata": {},
   "source": [
    "## Reward\n",
    "\n",
    "Reward is 1 until the stick falls\n",
    "\n",
    "## Action space\n",
    "\n",
    "Discrete 2-valued, either 0 or 1. 0 means push cart left, 1 means push cart right."
   ]
  },
  {
   "cell_type": "code",
   "execution_count": 29,
   "metadata": {},
   "outputs": [
    {
     "name": "stdout",
     "output_type": "stream",
     "text": [
      "Discrete(2)\n"
     ]
    },
    {
     "data": {
      "text/plain": [
       "1"
      ]
     },
     "execution_count": 29,
     "metadata": {},
     "output_type": "execute_result"
    }
   ],
   "source": [
    "print(env.action_space)\n",
    "\n",
    "# sample the action space, may be useful if you don't know what to do\n",
    "env.action_space.sample()"
   ]
  },
  {
   "cell_type": "markdown",
   "metadata": {},
   "source": [
    "## Observation space\n",
    "\n",
    "After every action, you get the new observation, reward, and a done flag to tell you if the game is over"
   ]
  },
  {
   "cell_type": "code",
   "execution_count": 27,
   "metadata": {},
   "outputs": [
    {
     "name": "stdout",
     "output_type": "stream",
     "text": [
      "(array([-0.24441929, -2.37079652,  0.4652792 ,  4.01682322]), 0.0, True, {})\n"
     ]
    },
    {
     "data": {
      "text/plain": [
       "array([ 3.8170819e+00,  3.2603339e+38, -7.9313731e-03, -9.3532748e+37],\n",
       "      dtype=float32)"
      ]
     },
     "execution_count": 27,
     "metadata": {},
     "output_type": "execute_result"
    }
   ],
   "source": [
    "print(env.step(0)) # 0 = observation, 1 = reward, 2 = game done?, 3 = extra information\n",
    "\n",
    "env.observation_space.sample() # not really useful, but you can sample the observation space"
   ]
  },
  {
   "cell_type": "markdown",
   "metadata": {},
   "source": [
    "## Full Simple CartPole Example\n",
    "\n",
    "Simple CartPole example with random actions"
   ]
  },
  {
   "cell_type": "code",
   "execution_count": 30,
   "metadata": {},
   "outputs": [
    {
     "data": {
      "image/png": "[encoded data removed]",
      "text/plain": [
       "<Figure size 432x288 with 1 Axes>"
      ]
     },
     "metadata": {},
     "output_type": "display_data"
    },
    {
     "name": "stdout",
     "output_type": "stream",
     "text": [
      "Episode one in 35 steps, total_reward 35.0\n"
     ]
    },
    {
     "data": {
      "image/png": "[encoded data removed]",
      "text/plain": [
       "<Figure size 432x288 with 1 Axes>"
      ]
     },
     "metadata": {
      "needs_background": "light"
     },
     "output_type": "display_data"
    }
   ],
   "source": [
    "import gym\n",
    "from IPython import display\n",
    "import matplotlib.pyplot as plt\n",
    "%matplotlib inline\n",
    "\n",
    "\n",
    "env = gym.make('CartPole-v0')\n",
    "total_reward = 0.0\n",
    "total_steps = 0\n",
    "obs = env.reset()\n",
    "\n",
    "while True:\n",
    "    plt.imshow(env.render(mode='rgb_array'))\n",
    "    display.clear_output(wait=True)\n",
    "    display.display(plt.gcf())\n",
    "    action = env.action_space.sample() # randomly act\n",
    "    obs, reward, done, _ = env.step(action)\n",
    "    total_reward += reward\n",
    "    total_steps += 1\n",
    "    \n",
    "    if done:\n",
    "        break\n",
    "\n",
    "print(f'Episode one in {total_steps} steps, total_reward {total_reward}')"
   ]
  },
  {
   "cell_type": "code",
   "execution_count": null,
   "metadata": {},
   "outputs": [],
   "source": []
  },
  {
   "cell_type": "code",
   "execution_count": 10,
   "metadata": {},
   "outputs": [
    {
     "data": {
      "text/plain": [
       "Box(4,)"
      ]
     },
     "execution_count": 10,
     "metadata": {},
     "output_type": "execute_result"
    }
   ],
   "source": []
  }
 ],
 "metadata": {
  "kernelspec": {
   "display_name": "Python 3",
   "language": "python",
   "name": "python3"
  },
  "language_info": {
   "codemirror_mode": {
    "name": "ipython",
    "version": 3
   },
   "file_extension": ".py",
   "mimetype": "text/x-python",
   "name": "python",
   "nbconvert_exporter": "python",
   "pygments_lexer": "ipython3",
   "version": "3.7.7"
  }
 },
 "nbformat": 4,
 "nbformat_minor": 4
}
