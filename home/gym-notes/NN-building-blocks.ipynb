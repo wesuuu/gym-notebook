{
 "cells": [
  {
   "cell_type": "markdown",
   "metadata": {},
   "source": [
    "# NN Building blocks\n",
    "\n",
    "predefined classes providing with basic functionality blocks designed with practice in mind"
   ]
  },
  {
   "cell_type": "code",
   "execution_count": 5,
   "metadata": {},
   "outputs": [
    {
     "data": {
      "text/plain": [
       "tensor([-0.4047,  0.7451,  0.1323, -1.1864, -0.9585], grad_fn=<AddBackward0>)"
      ]
     },
     "execution_count": 5,
     "metadata": {},
     "output_type": "execute_result"
    }
   ],
   "source": [
    "\"\"\"\n",
    "Create a randomly initialized feed-forward network, with 2 inputs and 5 outputs and apply it to a float tensor\n",
    "\"\"\"\n",
    "\n",
    "import torch.nn as nn\n",
    "import torch\n",
    "\n",
    "l = nn.Linear(2, 5)\n",
    "v = torch.FloatTensor([1,2])\n",
    "\n",
    "l(v)"
   ]
  },
  {
   "cell_type": "markdown",
   "metadata": {},
   "source": [
    "## nn.Module parameters\n",
    "\n",
    "`parameters()`: returns an iterator of all variables that require gradient computation (module weights)\n",
    "\n",
    "`zero_grad()`: initializes all gradietns of all parameters to zero\n",
    "\n",
    "`to(device)`: CPU to GPU and vice versa\n",
    "\n",
    "`state_dict`: Dictionary of all module parameters useful for model serialization (saving)\n",
    "\n",
    "`load_state_dict()` initializes a network with a state dictionary\n",
    "\n",
    "## Combine layers into others by piping\n",
    "\n",
    "use `Sequential` to create multiple layers"
   ]
  },
  {
   "cell_type": "code",
   "execution_count": 7,
   "metadata": {},
   "outputs": [
    {
     "data": {
      "text/plain": [
       "Sequential(\n",
       "  (0): Linear(in_features=2, out_features=5, bias=True)\n",
       "  (1): ReLU()\n",
       "  (2): Linear(in_features=5, out_features=20, bias=True)\n",
       "  (3): ReLU()\n",
       "  (4): Linear(in_features=20, out_features=10, bias=True)\n",
       "  (5): Dropout(p=0.3, inplace=False)\n",
       "  (6): Softmax(dim=1)\n",
       ")"
      ]
     },
     "execution_count": 7,
     "metadata": {},
     "output_type": "execute_result"
    }
   ],
   "source": [
    "\"\"\"\n",
    "Define a three-layer NN with softmax on output applied along dimension 1 (dimension 0 is batch samples), rectified\n",
    "linear layers (ReLU), and dropout\n",
    "\"\"\"\n",
    "\n",
    "s = nn.Sequential(\n",
    "    nn.Linear(2, 5),\n",
    "    nn.ReLU(),\n",
    "    nn.Linear(5, 20),\n",
    "    nn.ReLU(),\n",
    "    nn.Linear(20, 10),\n",
    "    nn.Dropout(p=0.3),\n",
    "    nn.Softmax(dim=1)\n",
    ")\n",
    "s"
   ]
  },
  {
   "cell_type": "code",
   "execution_count": 16,
   "metadata": {},
   "outputs": [
    {
     "data": {
      "text/plain": [
       "tensor([[0.1049, 0.0778, 0.0782, 0.0949, 0.0949, 0.0949, 0.1553, 0.1003, 0.1038,\n",
       "         0.0949]], grad_fn=<SoftmaxBackward>)"
      ]
     },
     "execution_count": 16,
     "metadata": {},
     "output_type": "execute_result"
    }
   ],
   "source": [
    "# Push something through the network\n",
    "\n",
    "s(torch.FloatTensor([[1,2]])) # minibatch flowing through network"
   ]
  },
  {
   "cell_type": "markdown",
   "metadata": {},
   "source": [
    "## Custom layers\n",
    "\n",
    "By subclassing `nn.Module`, you can create your own building blocks, which can stack together, reused later, and integrated into the PyTorch framework flawlessly"
   ]
  },
  {
   "cell_type": "code",
   "execution_count": 20,
   "metadata": {},
   "outputs": [
    {
     "name": "stdout",
     "output_type": "stream",
     "text": [
      "OurModule(\n",
      "  (pipe): Sequential(\n",
      "    (0): Linear(in_features=2, out_features=5, bias=True)\n",
      "    (1): ReLU()\n",
      "    (2): Linear(in_features=5, out_features=20, bias=True)\n",
      "    (3): ReLU()\n",
      "    (4): Linear(in_features=20, out_features=3, bias=True)\n",
      "    (5): Dropout(p=0.3, inplace=False)\n",
      "    (6): Softmax(dim=1)\n",
      "  )\n",
      ")\n",
      "tensor([[0.4634, 0.2562, 0.2803]], grad_fn=<SoftmaxBackward>)\n"
     ]
    }
   ],
   "source": [
    "\"\"\"\n",
    "forward() must be overridden to apply network\n",
    "\"\"\"\n",
    "\n",
    "class OurModule(nn.Module):\n",
    "    def __init__(self, num_inputs, num_classes, dropout_prob=0.3):\n",
    "        super(OurModule, self).__init__()\n",
    "        self.pipe = nn.Sequential(\n",
    "            nn.Linear(num_inputs, 5),\n",
    "            nn.ReLU(),\n",
    "            nn.Linear(5, 20),\n",
    "            nn.ReLU(),\n",
    "            nn.Linear(20, num_classes),\n",
    "            nn.Dropout(p=dropout_prob),\n",
    "            nn.Softmax(dim=1)\n",
    "        )\n",
    "        \n",
    "    def forward(self, x):\n",
    "        return self.pipe(x)\n",
    "    \n",
    "net = OurModule(num_inputs=2, num_classes=3)\n",
    "v = torch.FloatTensor([[2, 3]])\n",
    "out = net(v)\n",
    "print(net)\n",
    "print(out)"
   ]
  },
  {
   "cell_type": "markdown",
   "metadata": {},
   "source": [
    "## Summary\n",
    "\n",
    "PyTorch has the ability to create multiple layers of networks, you can override the default `Module` and create your own properties/features/functions"
   ]
  }
 ],
 "metadata": {
  "kernelspec": {
   "display_name": "Python 3",
   "language": "python",
   "name": "python3"
  },
  "language_info": {
   "codemirror_mode": {
    "name": "ipython",
    "version": 3
   },
   "file_extension": ".py",
   "mimetype": "text/x-python",
   "name": "python",
   "nbconvert_exporter": "python",
   "pygments_lexer": "ipython3",
   "version": "3.7.7"
  }
 },
 "nbformat": 4,
 "nbformat_minor": 4
}
